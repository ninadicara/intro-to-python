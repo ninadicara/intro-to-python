{
 "cells": [
  {
   "cell_type": "markdown",
   "metadata": {},
   "source": [
    "# graphy2: cross platform compatible graphs and tables\n",
    "\n",
    "\n",
    "graphy2 is designed to try and insure that a given table or graph standard can be constructed from any given statistical or python platform. It is built on top of many external libraries listed below and acts as an API for these libraries.\n",
    "\n",
    "Using this package enables faster and easier creation of charts. Please find a few examples of the using package and description of individual charts. \n"
   ]
  },
  {
   "cell_type": "markdown",
   "metadata": {},
   "source": [
    "## Installation\n",
    "\n",
    "On MacOS and Linux use command:"
   ]
  },
  {
   "cell_type": "code",
   "execution_count": 1,
   "metadata": {},
   "outputs": [
    {
     "name": "stdout",
     "output_type": "stream",
     "text": [
      "Collecting Graphy2\n",
      "  Downloading graphy2-0.2.4-py3-none-any.whl (5.0 kB)\n",
      "Collecting matplotlib>=3.2.1\n",
      "  Downloading matplotlib-3.2.1-cp38-cp38-macosx_10_9_x86_64.whl (12.4 MB)\n",
      "\u001b[K     |████████████████████████████████| 12.4 MB 1.8 MB/s eta 0:00:01\n",
      "\u001b[?25hCollecting pandas>=1.0.3\n",
      "  Downloading pandas-1.0.4-cp38-cp38-macosx_10_9_x86_64.whl (10.2 MB)\n",
      "\u001b[K     |████████████████████████████████| 10.2 MB 5.9 MB/s eta 0:00:01\n",
      "\u001b[?25hCollecting seaborn>=0.10.1\n",
      "  Downloading seaborn-0.10.1-py3-none-any.whl (215 kB)\n",
      "\u001b[K     |████████████████████████████████| 215 kB 6.9 MB/s eta 0:00:01\n",
      "\u001b[?25hCollecting kiwisolver>=1.2.0\n",
      "  Downloading kiwisolver-1.2.0-cp38-cp38-macosx_10_9_x86_64.whl (60 kB)\n",
      "\u001b[K     |████████████████████████████████| 60 kB 4.9 MB/s eta 0:00:01\n",
      "\u001b[?25hCollecting pytz>=2020.1\n",
      "  Downloading pytz-2020.1-py2.py3-none-any.whl (510 kB)\n",
      "\u001b[K     |████████████████████████████████| 510 kB 6.5 MB/s eta 0:00:01\n",
      "\u001b[?25hCollecting pyparsing>=2.4.7\n",
      "  Downloading pyparsing-2.4.7-py2.py3-none-any.whl (67 kB)\n",
      "\u001b[K     |████████████████████████████████| 67 kB 4.5 MB/s eta 0:00:011\n",
      "\u001b[?25hRequirement already satisfied: python-dateutil>=2.8.1 in /usr/local/Cellar/jupyterlab/2.1.2/libexec/lib/python3.8/site-packages (from Graphy2) (2.8.1)\n",
      "Collecting cycler>=0.10.0\n",
      "  Downloading cycler-0.10.0-py2.py3-none-any.whl (6.5 kB)\n",
      "Collecting numpy>=1.11\n",
      "  Downloading numpy-1.18.4-cp38-cp38-macosx_10_9_x86_64.whl (15.2 MB)\n",
      "\u001b[K     |████████████████████████████████| 15.2 MB 5.6 MB/s eta 0:00:01    |████▎                           | 2.0 MB 6.9 MB/s eta 0:00:02\n",
      "\u001b[?25hCollecting scipy>=1.0.1\n",
      "  Downloading scipy-1.4.1-cp38-cp38-macosx_10_9_x86_64.whl (28.8 MB)\n",
      "\u001b[K     |████████████████████████████████| 28.8 MB 5.8 MB/s eta 0:00:01\n",
      "\u001b[?25hRequirement already satisfied: six>=1.5 in /usr/local/Cellar/jupyterlab/2.1.2/libexec/lib/python3.8/site-packages (from python-dateutil>=2.8.1->Graphy2) (1.14.0)\n",
      "Installing collected packages: numpy, pyparsing, kiwisolver, cycler, matplotlib, pytz, pandas, scipy, seaborn, Graphy2\n",
      "Successfully installed Graphy2-0.2.4 cycler-0.10.0 kiwisolver-1.2.0 matplotlib-3.2.1 numpy-1.18.4 pandas-1.0.4 pyparsing-2.4.7 pytz-2020.1 scipy-1.4.1 seaborn-0.10.1\n",
      "\u001b[33mWARNING: You are using pip version 20.1; however, version 20.1.1 is available.\n",
      "You should consider upgrading via the '/usr/local/Cellar/jupyterlab/2.1.2/libexec/bin/python3.8 -m pip install --upgrade pip' command.\u001b[0m\n",
      "Note: you may need to restart the kernel to use updated packages.\n"
     ]
    }
   ],
   "source": [
    "pip install graphy2"
   ]
  },
  {
   "cell_type": "markdown",
   "metadata": {},
   "source": [
    "## Examples\n",
    "\n",
    "### Bar plot \n",
    "\n",
    "A bar chart is used when you want to show a distribution of data points or perform a comparison of metric values across different subgroups of your data. From a bar chart, we can see which groups are highest or most common, and how other groups compare against the others.\n",
    "\n",
    "Example:\n"
   ]
  },
  {
   "cell_type": "code",
   "execution_count": 2,
   "metadata": {},
   "outputs": [
    {
     "ename": "NameError",
     "evalue": "name '__file__' is not defined",
     "output_type": "error",
     "traceback": [
      "\u001b[0;31m---------------------------------------------------------------------------\u001b[0m",
      "\u001b[0;31mNameError\u001b[0m                                 Traceback (most recent call last)",
      "\u001b[0;32m<ipython-input-2-bb14feba6e65>\u001b[0m in \u001b[0;36m<module>\u001b[0;34m\u001b[0m\n\u001b[1;32m     10\u001b[0m \u001b[0;34m\u001b[0m\u001b[0m\n\u001b[1;32m     11\u001b[0m     \u001b[0;31m# Get the path for the directory of this file, and save output to new sub-directory 'plots'\u001b[0m\u001b[0;34m\u001b[0m\u001b[0;34m\u001b[0m\u001b[0;34m\u001b[0m\u001b[0m\n\u001b[0;32m---> 12\u001b[0;31m     \u001b[0mwrite_dir\u001b[0m \u001b[0;34m=\u001b[0m \u001b[0mos\u001b[0m\u001b[0;34m.\u001b[0m\u001b[0mpath\u001b[0m\u001b[0;34m.\u001b[0m\u001b[0mjoin\u001b[0m\u001b[0;34m(\u001b[0m\u001b[0mos\u001b[0m\u001b[0;34m.\u001b[0m\u001b[0mpath\u001b[0m\u001b[0;34m.\u001b[0m\u001b[0mdirname\u001b[0m\u001b[0;34m(\u001b[0m\u001b[0mos\u001b[0m\u001b[0;34m.\u001b[0m\u001b[0mpath\u001b[0m\u001b[0;34m.\u001b[0m\u001b[0mrealpath\u001b[0m\u001b[0;34m(\u001b[0m\u001b[0m__file__\u001b[0m\u001b[0;34m)\u001b[0m\u001b[0;34m)\u001b[0m\u001b[0;34m,\u001b[0m \u001b[0;34m\"plots\"\u001b[0m\u001b[0;34m)\u001b[0m\u001b[0;34m\u001b[0m\u001b[0;34m\u001b[0m\u001b[0m\n\u001b[0m\u001b[1;32m     13\u001b[0m \u001b[0;34m\u001b[0m\u001b[0m\n\u001b[1;32m     14\u001b[0m     \u001b[0;31m# Call graphy2 to produce a bar plot\u001b[0m\u001b[0;34m\u001b[0m\u001b[0;34m\u001b[0m\u001b[0;34m\u001b[0m\u001b[0m\n",
      "\u001b[0;31mNameError\u001b[0m: name '__file__' is not defined"
     ]
    }
   ],
   "source": [
    "from graphy2.core import Graphy\n",
    "\n",
    "if __name__ == \"__main__\":\n",
    "\n",
    "    import seaborn as sns\n",
    "    import os\n",
    "\n",
    "    # Load an example dataset from seaborn as the sample dataset\n",
    "    data = sns.load_dataset(\"tips\")\n",
    "\n",
    "    # Get the path for the directory of this file, and save output to new sub-directory 'plots'\n",
    "    write_dir = os.path.join(os.path.dirname(os.path.realpath(__file__)), \"plots\")\n",
    "\n",
    "    # Call graphy2 to produce a bar plot\n",
    "    Graphy(data, write_dir).bar_plot(x_var=\"sex\", y_var=\"total_bill\",\n",
    "                                     gradient_variable=\"smoker\")"
   ]
  },
  {
   "cell_type": "markdown",
   "metadata": {},
   "source": [
    "### Violin plot\n",
    "\n",
    "In general, violin plots are a method of plotting numeric data and can be considered a combination of the box plot with a kernel density plot. In the violin plot, we can find the same information as in the box plots:\n",
    "- median (a white dot on the violin plot)\n",
    "- interquartile range (the black bar in the center of violin)\n",
    "- the lower/upper adjacent values (the black lines stretched from the bar) — defined as first quartile — 1.5 IQR and third quartile + 1.5 IQR respectively. These values can be used in a simple outlier detection technique (Tukey’s fences) — observations lying outside of these “fences” can be considered outliers.\n",
    "\n",
    "The unquestionable advantage of the violin plot over the box plot is that aside from showing the abovementioned statistics it also shows the entire distribution of the data. This is of interest, especially when dealing with multimodal data, i.e., a distribution with more than one peak.\n",
    "\n",
    "Example:"
   ]
  },
  {
   "cell_type": "code",
   "execution_count": null,
   "metadata": {},
   "outputs": [],
   "source": [
    "\"\"\"\n",
    "This is a basic example of how to use the library to create a violinplot in Python\n",
    "\"\"\"\n",
    "from graphy2.core import Graphy\n",
    "\n",
    "if __name__ == \"__main__\":\n",
    "\n",
    "    import seaborn as sns\n",
    "    import os\n",
    "\n",
    "    # Load an example dataset from seaborn as the sample dataset\n",
    "    data = sns.load_dataset(\"tips\")\n",
    "\n",
    "    # Get the path for the directory of this file, and save output to new sub-directory 'plots'\n",
    "    write_dir = os.path.join(os.path.dirname(os.path.realpath(__file__)), \"plots\")\n",
    "\n",
    "    # Call graphy2 to produce a box plot\n",
    "    Graphy(data, write_dir).violin_plot(x_var=\"day\", y_var=\"total_bill\",\n",
    "                                        gradient_variable=\"sex\")\n",
    "    "
   ]
  },
  {
   "cell_type": "markdown",
   "metadata": {},
   "source": [
    "### KDE plot\n",
    "\n",
    "KDE Plot described as Kernel Density Estimate is used for visualizing the Probability Density of a continuous variable. It depicts the probability density at different values in a continuous variable. We can also plot a single graph for multiple samples which helps in more efficient data visualization.\n",
    "\n",
    "Example:"
   ]
  },
  {
   "cell_type": "code",
   "execution_count": null,
   "metadata": {
    "pycharm": {
     "name": "#%%\n"
    }
   },
   "outputs": [],
   "source": [
    "\"\"\"\n",
    "This is a basic example of how to use the library to create a kdeplot in Python\n",
    "\"\"\"\n",
    "from graphy2.core import Graphy\n",
    "import numpy as np; np.random.seed(10)\n",
    "import pandas as pd\n",
    "if __name__ == \"__main__\":\n",
    "\n",
    "    import seaborn as sns\n",
    "    import os\n",
    "\n",
    "    # Load an example dataset from seaborn as the sample dataset\n",
    "    mean, cov = [0, 2], [(1, .5), (.5, 1)]\n",
    "    x, y = np.random.multivariate_normal(mean, cov, size=50).T\n",
    "    data = pd.DataFrame({'X': x, 'Y':y}, columns = ['X', 'Y'])\n",
    "\n",
    "    # Get the path for the directory of this file, and save output to new sub-directory 'plots'\n",
    "    write_dir = os.path.join(os.path.dirname(os.path.realpath(__file__)), \"plots\")\n",
    "\n",
    "    # Call graphy2 to produce a box plot\n",
    "    Graphy(data, write_dir).kde_plot()"
   ]
  }
 ],
 "metadata": {
  "kernelspec": {
   "display_name": "Python 3",
   "language": "python",
   "name": "python3"
  },
  "language_info": {
   "codemirror_mode": {
    "name": "ipython",
    "version": 3
   },
   "file_extension": ".py",
   "mimetype": "text/x-python",
   "name": "python",
   "nbconvert_exporter": "python",
   "pygments_lexer": "ipython3",
   "version": "3.8.3"
  },
  "pycharm": {
   "stem_cell": {
    "cell_type": "raw",
    "source": [],
    "metadata": {
     "collapsed": false
    }
   }
  }
 },
 "nbformat": 4,
 "nbformat_minor": 4
}