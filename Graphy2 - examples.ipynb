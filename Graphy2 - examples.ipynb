{
 "cells": [
  {
   "cell_type": "markdown",
   "metadata": {},
   "source": [
    "# graphy2: cross platform compatible graphs and tables\n",
    "\n",
    "\n",
    "graphy2 is designed to try and insure that a given table or graph standard can be constructed from any given statistical or python platform. It is built on top of many external libraries listed below and acts as an API for these libraries.\n",
    "\n",
    "Using this package enables faster and easier creation of charts. Please find a few examples of the using package and description of individual charts. \n"
   ]
  },
  {
   "cell_type": "markdown",
   "metadata": {},
   "source": [
    "## Installation\n",
    "\n",
    "On MacOS and Linux use command:"
   ]
  },
  {
   "cell_type": "code",
   "execution_count": 6,
   "metadata": {},
   "outputs": [
    {
     "name": "stdout",
     "output_type": "stream",
     "text": [
      "Requirement already satisfied: Graphy2 in /usr/local/Cellar/jupyterlab/2.1.2/libexec/lib/python3.8/site-packages (0.2.4)\n",
      "Requirement already satisfied: pandas>=1.0.3 in /usr/local/Cellar/jupyterlab/2.1.2/libexec/lib/python3.8/site-packages (from Graphy2) (1.0.4)\n",
      "Requirement already satisfied: kiwisolver>=1.2.0 in /usr/local/Cellar/jupyterlab/2.1.2/libexec/lib/python3.8/site-packages (from Graphy2) (1.2.0)\n",
      "Requirement already satisfied: matplotlib>=3.2.1 in /usr/local/Cellar/jupyterlab/2.1.2/libexec/lib/python3.8/site-packages (from Graphy2) (3.2.1)\n",
      "Requirement already satisfied: seaborn>=0.10.1 in /usr/local/Cellar/jupyterlab/2.1.2/libexec/lib/python3.8/site-packages (from Graphy2) (0.10.1)\n",
      "Requirement already satisfied: pytz>=2020.1 in /usr/local/Cellar/jupyterlab/2.1.2/libexec/lib/python3.8/site-packages (from Graphy2) (2020.1)\n",
      "Requirement already satisfied: python-dateutil>=2.8.1 in /usr/local/Cellar/jupyterlab/2.1.2/libexec/lib/python3.8/site-packages (from Graphy2) (2.8.1)\n",
      "Requirement already satisfied: cycler>=0.10.0 in /usr/local/Cellar/jupyterlab/2.1.2/libexec/lib/python3.8/site-packages (from Graphy2) (0.10.0)\n",
      "Requirement already satisfied: pyparsing>=2.4.7 in /usr/local/Cellar/jupyterlab/2.1.2/libexec/lib/python3.8/site-packages (from Graphy2) (2.4.7)\n",
      "Requirement already satisfied: numpy>=1.13.3 in /usr/local/Cellar/jupyterlab/2.1.2/libexec/lib/python3.8/site-packages (from pandas>=1.0.3->Graphy2) (1.18.4)\n",
      "Requirement already satisfied: scipy>=1.0.1 in /usr/local/Cellar/jupyterlab/2.1.2/libexec/lib/python3.8/site-packages (from seaborn>=0.10.1->Graphy2) (1.4.1)\n",
      "Requirement already satisfied: six>=1.5 in /usr/local/Cellar/jupyterlab/2.1.2/libexec/lib/python3.8/site-packages (from python-dateutil>=2.8.1->Graphy2) (1.14.0)\n",
      "\u001b[33mWARNING: You are using pip version 20.1; however, version 20.1.1 is available.\n",
      "You should consider upgrading via the '/usr/local/Cellar/jupyterlab/2.1.2/libexec/bin/python3.8 -m pip install --upgrade pip' command.\u001b[0m\n",
      "Note: you may need to restart the kernel to use updated packages.\n"
     ]
    }
   ],
   "source": [
    "pip install Graphy2"
   ]
  },
  {
   "cell_type": "markdown",
   "metadata": {},
   "source": [
    "## Examples\n",
    "\n",
    "### Bar plot \n",
    "\n",
    "A bar chart is used when you want to show a distribution of data points or perform a comparison of metric values across different subgroups of your data. From a bar chart, we can see which groups are highest or most common, and how other groups compare against the others.\n",
    "\n",
    "Example:\n"
   ]
  },
  {
   "cell_type": "code",
   "execution_count": 9,
   "metadata": {},
   "outputs": [],
   "source": [
    "from graphy2.core import Graphy"
   ]
  },
  {
   "cell_type": "code",
   "execution_count": 10,
   "metadata": {},
   "outputs": [
    {
     "ename": "AttributeError",
     "evalue": "'Graphy' object has no attribute 'bar_plot'",
     "output_type": "error",
     "traceback": [
      "\u001b[0;31m---------------------------------------------------------------------------\u001b[0m",
      "\u001b[0;31mAttributeError\u001b[0m                            Traceback (most recent call last)",
      "\u001b[0;32m<ipython-input-10-e5f29fc77004>\u001b[0m in \u001b[0;36m<module>\u001b[0;34m\u001b[0m\n\u001b[1;32m     14\u001b[0m \u001b[0;34m\u001b[0m\u001b[0m\n\u001b[1;32m     15\u001b[0m     \u001b[0;31m# Call graphy2 to produce a bar plot\u001b[0m\u001b[0;34m\u001b[0m\u001b[0;34m\u001b[0m\u001b[0;34m\u001b[0m\u001b[0m\n\u001b[0;32m---> 16\u001b[0;31m     \u001b[0mGraphy\u001b[0m\u001b[0;34m(\u001b[0m\u001b[0mdata\u001b[0m\u001b[0;34m,\u001b[0m \u001b[0mwrite_dir\u001b[0m\u001b[0;34m)\u001b[0m\u001b[0;34m.\u001b[0m\u001b[0mbar_plot\u001b[0m\u001b[0;34m(\u001b[0m\u001b[0mx_var\u001b[0m\u001b[0;34m=\u001b[0m\u001b[0;34m\"sex\"\u001b[0m\u001b[0;34m,\u001b[0m \u001b[0my_var\u001b[0m\u001b[0;34m=\u001b[0m\u001b[0;34m\"total_bill\"\u001b[0m\u001b[0;34m,\u001b[0m \u001b[0mgradient_variable\u001b[0m\u001b[0;34m=\u001b[0m\u001b[0;34m\"smoker\"\u001b[0m\u001b[0;34m)\u001b[0m\u001b[0;34m\u001b[0m\u001b[0;34m\u001b[0m\u001b[0m\n\u001b[0m",
      "\u001b[0;31mAttributeError\u001b[0m: 'Graphy' object has no attribute 'bar_plot'"
     ]
    }
   ],
   "source": [
    "from graphy2.core import Graphy\n",
    "\n",
    "if __name__ == \"__main__\":\n",
    "\n",
    "    import seaborn as sns\n",
    "    import os\n",
    "\n",
    "    # Load an example dataset from seaborn as the sample dataset\n",
    "    data = sns.load_dataset(\"tips\")\n",
    "\n",
    "    # Get the path for the directory of this file, and save output to new sub-directory 'plots'\n",
    "    pwd = os.getcwd()\n",
    "    write_dir = pwd\n",
    "\n",
    "    # Call graphy2 to produce a bar plot\n",
    "    Graphy(data, write_dir).bar_plot(x_var=\"sex\", y_var=\"total_bill\", gradient_variable=\"smoker\")"
   ]
  },
  {
   "cell_type": "markdown",
   "metadata": {},
   "source": [
    "### Violin plot\n",
    "\n",
    "In general, violin plots are a method of plotting numeric data and can be considered a combination of the box plot with a kernel density plot. In the violin plot, we can find the same information as in the box plots:\n",
    "- median (a white dot on the violin plot)\n",
    "- interquartile range (the black bar in the center of violin)\n",
    "- the lower/upper adjacent values (the black lines stretched from the bar) — defined as first quartile — 1.5 IQR and third quartile + 1.5 IQR respectively. These values can be used in a simple outlier detection technique (Tukey’s fences) — observations lying outside of these “fences” can be considered outliers.\n",
    "\n",
    "The unquestionable advantage of the violin plot over the box plot is that aside from showing the abovementioned statistics it also shows the entire distribution of the data. This is of interest, especially when dealing with multimodal data, i.e., a distribution with more than one peak.\n",
    "\n",
    "Example:"
   ]
  },
  {
   "cell_type": "code",
   "execution_count": 11,
   "metadata": {},
   "outputs": [
    {
     "ename": "AttributeError",
     "evalue": "'Graphy' object has no attribute 'violin_plot'",
     "output_type": "error",
     "traceback": [
      "\u001b[0;31m---------------------------------------------------------------------------\u001b[0m",
      "\u001b[0;31mAttributeError\u001b[0m                            Traceback (most recent call last)",
      "\u001b[0;32m<ipython-input-11-c3898abda237>\u001b[0m in \u001b[0;36m<module>\u001b[0;34m\u001b[0m\n\u001b[1;32m     17\u001b[0m \u001b[0;34m\u001b[0m\u001b[0m\n\u001b[1;32m     18\u001b[0m     \u001b[0;31m# Call graphy2 to produce a box plot\u001b[0m\u001b[0;34m\u001b[0m\u001b[0;34m\u001b[0m\u001b[0;34m\u001b[0m\u001b[0m\n\u001b[0;32m---> 19\u001b[0;31m     Graphy(data, write_dir).violin_plot(x_var=\"day\", y_var=\"total_bill\",\n\u001b[0m\u001b[1;32m     20\u001b[0m                                         gradient_variable=\"sex\")\n\u001b[1;32m     21\u001b[0m \u001b[0;34m\u001b[0m\u001b[0m\n",
      "\u001b[0;31mAttributeError\u001b[0m: 'Graphy' object has no attribute 'violin_plot'"
     ]
    }
   ],
   "source": [
    "\"\"\"\n",
    "This is a basic example of how to use the library to create a violinplot in Python\n",
    "\"\"\"\n",
    "from graphy2.core import Graphy\n",
    "\n",
    "if __name__ == \"__main__\":\n",
    "\n",
    "    import seaborn as sns\n",
    "    import os\n",
    "\n",
    "    # Load an example dataset from seaborn as the sample dataset\n",
    "    data = sns.load_dataset(\"tips\")\n",
    "\n",
    "    # Get the path for the directory of this file, and save output to new sub-directory 'plots'\n",
    "    pwd = os.getcwd()\n",
    "    write_dir = pwd\n",
    "\n",
    "    # Call graphy2 to produce a box plot\n",
    "    Graphy(data, write_dir).violin_plot(x_var=\"day\", y_var=\"total_bill\",\n",
    "                                        gradient_variable=\"sex\")\n",
    "    "
   ]
  },
  {
   "cell_type": "markdown",
   "metadata": {},
   "source": [
    "### KDE plot\n",
    "\n",
    "KDE Plot described as Kernel Density Estimate is used for visualizing the Probability Density of a continuous variable. It depicts the probability density at different values in a continuous variable. We can also plot a single graph for multiple samples which helps in more efficient data visualization.\n",
    "\n",
    "Example:"
   ]
  },
  {
   "cell_type": "code",
   "execution_count": null,
   "metadata": {},
   "outputs": [],
   "source": [
    "\"\"\"\n",
    "This is a basic example of how to use the library to create a kdeplot in Python\n",
    "\"\"\"\n",
    "from graphy2.core import Graphy\n",
    "import numpy as np; np.random.seed(10)\n",
    "import pandas as pd\n",
    "if __name__ == \"__main__\":\n",
    "\n",
    "    import seaborn as sns\n",
    "    import os\n",
    "\n",
    "    # Load an example dataset from seaborn as the sample dataset\n",
    "    mean, cov = [0, 2], [(1, .5), (.5, 1)]\n",
    "    x, y = np.random.multivariate_normal(mean, cov, size=50).T\n",
    "    data = pd.DataFrame({'X': x, 'Y':y}, columns = ['X', 'Y'])\n",
    "\n",
    "    # Get the path for the directory of this file, and save output to new sub-directory 'plots'\n",
    "    write_dir = os.path.join(os.path.dirname(os.path.realpath(__file__)), \"plots\")\n",
    "\n",
    "    # Call graphy2 to produce a box plot\n",
    "    Graphy(data, write_dir).kde_plot()"
   ]
  }
 ],
 "metadata": {
  "kernelspec": {
   "display_name": "Python 3",
   "language": "python",
   "name": "python3"
  },
  "language_info": {
   "codemirror_mode": {
    "name": "ipython",
    "version": 3
   },
   "file_extension": ".py",
   "mimetype": "text/x-python",
   "name": "python",
   "nbconvert_exporter": "python",
   "pygments_lexer": "ipython3",
   "version": "3.8.3"
  }
 },
 "nbformat": 4,
 "nbformat_minor": 4
}
