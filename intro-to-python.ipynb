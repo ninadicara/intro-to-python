{
 "cells": [
  {
   "cell_type": "markdown",
   "metadata": {},
   "source": [
    "# Welcome to introduction to Python!\n",
    "\n",
    "We're going to be going through some of the basics of the Python programming language and showing you a package you can use to create publication-ready graphs. \n",
    "\n",
    "**About**: \n",
    "This tutorial was created for the GW4 Virtual Congress student led workshop entitled 'From Review to Publication'. It contains a short introduction to Python and an explanation of how to use the graphy2 library to create graphs for papers. \n",
    "The repository is available here. "
   ]
  },
  {
   "cell_type": "markdown",
   "metadata": {},
   "source": [
    "### Where am I?\n",
    "This webpage is called a 'Jupyter Notebook'. It's a place where you can write and play around with code in a portable format that has explanatory text, graphs and code all in the same place.  \n",
    "`Ju`-`py`-te-`r` = Julia, Python, R, which are the three languages that can be used in this format.\n",
    "### Can I touch this page?\n",
    "Yup! If you change anything on this page nothing bad will happen, and it will only change on your computer. \n",
    "In fact, we actively encourage you to play around with the code and see what happens. \n",
    "\n",
    "If you want to edit something then \n",
    "1. Click on it to start editing\n",
    "2. Press < shift > and < enter > at the same time to run the cell you just edited  \n",
    "\n",
    "### What is Python?\n",
    "Python is a programming language. It was created by Guido van Rossum in 1989, who named it after \"Monty Python's Flying Circus\". Let's run through some basic features..."
   ]
  },
  {
   "cell_type": "markdown",
   "metadata": {},
   "source": [
    "## Lets go over some basics:"
   ]
  },
  {
   "cell_type": "markdown",
   "metadata": {},
   "source": [
    "Creating variables:"
   ]
  },
  {
   "cell_type": "code",
   "execution_count": 1,
   "metadata": {},
   "outputs": [],
   "source": [
    "a = 1\n",
    "b = 2"
   ]
  },
  {
   "cell_type": "markdown",
   "metadata": {},
   "source": [
    "Now, the value of `a` is 1, and `b` is 2.  \n",
    "We can do things like add them together or multiply them by another number.  \n",
    "We will print these out below using the command `print(thing-I-want-to-print)`.  \n",
    "For anything we don't want the programme to run, we can put a `#` in front. This is called a comment. "
   ]
  },
  {
   "cell_type": "code",
   "execution_count": 2,
   "metadata": {},
   "outputs": [
    {
     "name": "stdout",
     "output_type": "stream",
     "text": [
      "1\n",
      "2\n",
      "3\n",
      "2\n",
      "0.5\n"
     ]
    }
   ],
   "source": [
    "# Print out a - this will display 1\n",
    "print(a)\n",
    "# Print out b - this will display 2\n",
    "print(b)\n",
    "# Print out a+b - this will display 3\n",
    "print(a+b)\n",
    "# Print out a+b - this will display 2\n",
    "print(a*b)\n",
    "# Print out a/b - this will display 0.5\n",
    "print(a/b)"
   ]
  },
  {
   "cell_type": "markdown",
   "metadata": {},
   "source": [
    "We can also assign variables to strings. A string is a sequence of characters. "
   ]
  },
  {
   "cell_type": "code",
   "execution_count": 3,
   "metadata": {},
   "outputs": [],
   "source": [
    "hello = \"Hello, world\""
   ]
  },
  {
   "cell_type": "code",
   "execution_count": 4,
   "metadata": {},
   "outputs": [
    {
     "name": "stdout",
     "output_type": "stream",
     "text": [
      "Hello, world\n"
     ]
    }
   ],
   "source": [
    "print(hello)"
   ]
  },
  {
   "cell_type": "markdown",
   "metadata": {},
   "source": [
    "When we assign the varibale nothing is printed below, because we've not told the programme to do anything wtih `hello` yet. When we call `hello` it prints the string we assigned the `hello` variable. If we wanted to actually print the world \"hello\" we would need: "
   ]
  },
  {
   "cell_type": "code",
   "execution_count": 5,
   "metadata": {},
   "outputs": [
    {
     "name": "stdout",
     "output_type": "stream",
     "text": [
      "hello\n"
     ]
    }
   ],
   "source": [
    "print(\"hello\")"
   ]
  },
  {
   "cell_type": "markdown",
   "metadata": {},
   "source": [
    "### Functions\n",
    "\n",
    "A function is a block of code to carry out a specific task, will contain its own scope and is called by name. All functions may contain zero(no) arguments or more than one arguments. On exit, a function can or can not return one or more values.\n",
    "\n",
    "In Python a function is defined using the def keyword:"
   ]
  },
  {
   "cell_type": "code",
   "execution_count": 3,
   "metadata": {},
   "outputs": [],
   "source": [
    "def my_function():\n",
    "  print(\"Hello from a function\")"
   ]
  },
  {
   "cell_type": "markdown",
   "metadata": {},
   "source": [
    "To call a function, use the function name followed by parenthesis:"
   ]
  },
  {
   "cell_type": "code",
   "execution_count": 4,
   "metadata": {},
   "outputs": [
    {
     "name": "stdout",
     "output_type": "stream",
     "text": [
      "Hello from a function\n"
     ]
    }
   ],
   "source": [
    "def my_function():\n",
    "  print(\"Hello from a function\")\n",
    "\n",
    "my_function()"
   ]
  },
  {
   "cell_type": "markdown",
   "metadata": {},
   "source": [
    "## Python Modules\n",
    "\n",
    "### What is a Module?\n",
    "\n",
    "Consider a module to be the same as a code library.\n",
    "\n",
    "A file containing a set of functions you want to include in your application. To incorporate specific module into project use import statement.\n"
   ]
  },
  {
   "cell_type": "code",
   "execution_count": null,
   "metadata": {},
   "outputs": [],
   "source": [
    "import Graphy2"
   ]
  }
 ],
 "metadata": {
  "kernelspec": {
   "display_name": "Python 3",
   "language": "python",
   "name": "python3"
  },
  "language_info": {
   "codemirror_mode": {
    "name": "ipython",
    "version": 3
   },
   "file_extension": ".py",
   "mimetype": "text/x-python",
   "name": "python",
   "nbconvert_exporter": "python",
   "pygments_lexer": "ipython3",
   "version": "3.8.3"
  }
 },
 "nbformat": 4,
 "nbformat_minor": 4
}
